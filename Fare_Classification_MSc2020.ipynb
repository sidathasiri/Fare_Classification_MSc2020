{
 "cells": [
  {
   "cell_type": "code",
   "execution_count": 58,
   "metadata": {},
   "outputs": [],
   "source": [
    "import pandas as pd\n",
    "%matplotlib inline"
   ]
  },
  {
   "cell_type": "code",
   "execution_count": 59,
   "metadata": {},
   "outputs": [],
   "source": [
    "# Import data\n",
    "train_data = pd.read_csv(\"train.csv\")\n",
    "test_data = pd.read_csv(\"test.csv\")"
   ]
  },
  {
   "cell_type": "code",
   "execution_count": 60,
   "metadata": {},
   "outputs": [
    {
     "data": {
      "text/html": [
       "<div>\n",
       "<style scoped>\n",
       "    .dataframe tbody tr th:only-of-type {\n",
       "        vertical-align: middle;\n",
       "    }\n",
       "\n",
       "    .dataframe tbody tr th {\n",
       "        vertical-align: top;\n",
       "    }\n",
       "\n",
       "    .dataframe thead th {\n",
       "        text-align: right;\n",
       "    }\n",
       "</style>\n",
       "<table border=\"1\" class=\"dataframe\">\n",
       "  <thead>\n",
       "    <tr style=\"text-align: right;\">\n",
       "      <th></th>\n",
       "      <th>tripid</th>\n",
       "      <th>additional_fare</th>\n",
       "      <th>duration</th>\n",
       "      <th>meter_waiting</th>\n",
       "      <th>meter_waiting_fare</th>\n",
       "      <th>meter_waiting_till_pickup</th>\n",
       "      <th>pickup_time</th>\n",
       "      <th>drop_time</th>\n",
       "      <th>pick_lat</th>\n",
       "      <th>pick_lon</th>\n",
       "      <th>drop_lat</th>\n",
       "      <th>drop_lon</th>\n",
       "      <th>fare</th>\n",
       "      <th>label</th>\n",
       "    </tr>\n",
       "  </thead>\n",
       "  <tbody>\n",
       "    <tr>\n",
       "      <th>0</th>\n",
       "      <td>189192436</td>\n",
       "      <td>10.5</td>\n",
       "      <td>22.0</td>\n",
       "      <td>21.0</td>\n",
       "      <td>0.0000</td>\n",
       "      <td>289.0</td>\n",
       "      <td>11/1/2019 12:35</td>\n",
       "      <td>11/1/2019 12:35</td>\n",
       "      <td>7.07404</td>\n",
       "      <td>79.8923</td>\n",
       "      <td>7.07423</td>\n",
       "      <td>79.8922</td>\n",
       "      <td>60.50</td>\n",
       "      <td>correct</td>\n",
       "    </tr>\n",
       "    <tr>\n",
       "      <th>1</th>\n",
       "      <td>192194022</td>\n",
       "      <td>10.5</td>\n",
       "      <td>22.0</td>\n",
       "      <td>20.0</td>\n",
       "      <td>0.0000</td>\n",
       "      <td>29.0</td>\n",
       "      <td>11/15/2019 15:41</td>\n",
       "      <td>11/15/2019 15:41</td>\n",
       "      <td>6.84768</td>\n",
       "      <td>79.9941</td>\n",
       "      <td>6.84770</td>\n",
       "      <td>79.9941</td>\n",
       "      <td>449.90</td>\n",
       "      <td>incorrect</td>\n",
       "    </tr>\n",
       "    <tr>\n",
       "      <th>2</th>\n",
       "      <td>194477974</td>\n",
       "      <td>10.5</td>\n",
       "      <td>22.0</td>\n",
       "      <td>21.0</td>\n",
       "      <td>1.2243</td>\n",
       "      <td>3.0</td>\n",
       "      <td>11/23/2019 19:51</td>\n",
       "      <td>11/23/2019 19:51</td>\n",
       "      <td>6.71349</td>\n",
       "      <td>79.9074</td>\n",
       "      <td>6.71433</td>\n",
       "      <td>79.9077</td>\n",
       "      <td>61.72</td>\n",
       "      <td>correct</td>\n",
       "    </tr>\n",
       "    <tr>\n",
       "      <th>3</th>\n",
       "      <td>192182656</td>\n",
       "      <td>5.0</td>\n",
       "      <td>23.0</td>\n",
       "      <td>23.0</td>\n",
       "      <td>1.3409</td>\n",
       "      <td>0.0</td>\n",
       "      <td>11/15/2019 14:31</td>\n",
       "      <td>11/15/2019 14:35</td>\n",
       "      <td>6.87287</td>\n",
       "      <td>79.8908</td>\n",
       "      <td>6.87959</td>\n",
       "      <td>79.8911</td>\n",
       "      <td>NaN</td>\n",
       "      <td>incorrect</td>\n",
       "    </tr>\n",
       "    <tr>\n",
       "      <th>4</th>\n",
       "      <td>197971580</td>\n",
       "      <td>5.0</td>\n",
       "      <td>23.0</td>\n",
       "      <td>22.0</td>\n",
       "      <td>1.2826</td>\n",
       "      <td>0.0</td>\n",
       "      <td>12/5/2019 11:31</td>\n",
       "      <td>12/5/2019 11:31</td>\n",
       "      <td>6.84268</td>\n",
       "      <td>80.0059</td>\n",
       "      <td>6.84267</td>\n",
       "      <td>80.0059</td>\n",
       "      <td>61.28</td>\n",
       "      <td>correct</td>\n",
       "    </tr>\n",
       "  </tbody>\n",
       "</table>\n",
       "</div>"
      ],
      "text/plain": [
       "      tripid  additional_fare  duration  meter_waiting  meter_waiting_fare  \\\n",
       "0  189192436             10.5      22.0           21.0              0.0000   \n",
       "1  192194022             10.5      22.0           20.0              0.0000   \n",
       "2  194477974             10.5      22.0           21.0              1.2243   \n",
       "3  192182656              5.0      23.0           23.0              1.3409   \n",
       "4  197971580              5.0      23.0           22.0              1.2826   \n",
       "\n",
       "   meter_waiting_till_pickup       pickup_time         drop_time  pick_lat  \\\n",
       "0                      289.0   11/1/2019 12:35   11/1/2019 12:35   7.07404   \n",
       "1                       29.0  11/15/2019 15:41  11/15/2019 15:41   6.84768   \n",
       "2                        3.0  11/23/2019 19:51  11/23/2019 19:51   6.71349   \n",
       "3                        0.0  11/15/2019 14:31  11/15/2019 14:35   6.87287   \n",
       "4                        0.0   12/5/2019 11:31   12/5/2019 11:31   6.84268   \n",
       "\n",
       "   pick_lon  drop_lat  drop_lon    fare      label  \n",
       "0   79.8923   7.07423   79.8922   60.50    correct  \n",
       "1   79.9941   6.84770   79.9941  449.90  incorrect  \n",
       "2   79.9074   6.71433   79.9077   61.72    correct  \n",
       "3   79.8908   6.87959   79.8911     NaN  incorrect  \n",
       "4   80.0059   6.84267   80.0059   61.28    correct  "
      ]
     },
     "execution_count": 60,
     "metadata": {},
     "output_type": "execute_result"
    }
   ],
   "source": [
    "train_data.head()"
   ]
  },
  {
   "cell_type": "code",
   "execution_count": 61,
   "metadata": {},
   "outputs": [
    {
     "data": {
      "text/plain": [
       "(17172, 14)"
      ]
     },
     "execution_count": 61,
     "metadata": {},
     "output_type": "execute_result"
    }
   ],
   "source": [
    "train_data.shape"
   ]
  },
  {
   "cell_type": "code",
   "execution_count": 62,
   "metadata": {},
   "outputs": [
    {
     "data": {
      "text/plain": [
       "tripid                         0\n",
       "additional_fare              202\n",
       "duration                     202\n",
       "meter_waiting                202\n",
       "meter_waiting_fare           202\n",
       "meter_waiting_till_pickup    202\n",
       "pickup_time                    0\n",
       "drop_time                      0\n",
       "pick_lat                       0\n",
       "pick_lon                       0\n",
       "drop_lat                       0\n",
       "drop_lon                       0\n",
       "fare                         137\n",
       "label                          0\n",
       "dtype: int64"
      ]
     },
     "execution_count": 62,
     "metadata": {},
     "output_type": "execute_result"
    }
   ],
   "source": [
    "train_data.isna().sum()"
   ]
  },
  {
   "cell_type": "code",
   "execution_count": 63,
   "metadata": {},
   "outputs": [],
   "source": [
    "train_data = train_data.dropna()"
   ]
  },
  {
   "cell_type": "code",
   "execution_count": 64,
   "metadata": {},
   "outputs": [
    {
     "data": {
      "text/html": [
       "<div>\n",
       "<style scoped>\n",
       "    .dataframe tbody tr th:only-of-type {\n",
       "        vertical-align: middle;\n",
       "    }\n",
       "\n",
       "    .dataframe tbody tr th {\n",
       "        vertical-align: top;\n",
       "    }\n",
       "\n",
       "    .dataframe thead th {\n",
       "        text-align: right;\n",
       "    }\n",
       "</style>\n",
       "<table border=\"1\" class=\"dataframe\">\n",
       "  <thead>\n",
       "    <tr style=\"text-align: right;\">\n",
       "      <th></th>\n",
       "      <th>tripid</th>\n",
       "      <th>additional_fare</th>\n",
       "      <th>duration</th>\n",
       "      <th>meter_waiting</th>\n",
       "      <th>meter_waiting_fare</th>\n",
       "      <th>meter_waiting_till_pickup</th>\n",
       "      <th>pick_lat</th>\n",
       "      <th>pick_lon</th>\n",
       "      <th>drop_lat</th>\n",
       "      <th>drop_lon</th>\n",
       "      <th>fare</th>\n",
       "    </tr>\n",
       "  </thead>\n",
       "  <tbody>\n",
       "    <tr>\n",
       "      <th>count</th>\n",
       "      <td>1.696400e+04</td>\n",
       "      <td>16964.000000</td>\n",
       "      <td>16964.000000</td>\n",
       "      <td>16964.000000</td>\n",
       "      <td>16964.000000</td>\n",
       "      <td>16964.000000</td>\n",
       "      <td>16964.000000</td>\n",
       "      <td>16964.000000</td>\n",
       "      <td>16964.000000</td>\n",
       "      <td>16964.000000</td>\n",
       "      <td>16964.000000</td>\n",
       "    </tr>\n",
       "    <tr>\n",
       "      <th>mean</th>\n",
       "      <td>2.014695e+08</td>\n",
       "      <td>12.969808</td>\n",
       "      <td>1703.217696</td>\n",
       "      <td>616.631514</td>\n",
       "      <td>31.330237</td>\n",
       "      <td>112.410340</td>\n",
       "      <td>6.965129</td>\n",
       "      <td>79.998001</td>\n",
       "      <td>6.965851</td>\n",
       "      <td>79.999172</td>\n",
       "      <td>311.248407</td>\n",
       "    </tr>\n",
       "    <tr>\n",
       "      <th>std</th>\n",
       "      <td>7.452977e+06</td>\n",
       "      <td>13.067356</td>\n",
       "      <td>8122.475573</td>\n",
       "      <td>7903.514912</td>\n",
       "      <td>456.066403</td>\n",
       "      <td>442.120178</td>\n",
       "      <td>0.210822</td>\n",
       "      <td>0.242809</td>\n",
       "      <td>0.211486</td>\n",
       "      <td>0.242995</td>\n",
       "      <td>575.797676</td>\n",
       "    </tr>\n",
       "    <tr>\n",
       "      <th>min</th>\n",
       "      <td>1.891236e+08</td>\n",
       "      <td>0.000000</td>\n",
       "      <td>22.000000</td>\n",
       "      <td>0.000000</td>\n",
       "      <td>0.000000</td>\n",
       "      <td>0.000000</td>\n",
       "      <td>5.937600</td>\n",
       "      <td>79.819100</td>\n",
       "      <td>5.941860</td>\n",
       "      <td>79.796700</td>\n",
       "      <td>0.000000</td>\n",
       "    </tr>\n",
       "    <tr>\n",
       "      <th>25%</th>\n",
       "      <td>1.947357e+08</td>\n",
       "      <td>10.500000</td>\n",
       "      <td>548.000000</td>\n",
       "      <td>33.000000</td>\n",
       "      <td>0.000000</td>\n",
       "      <td>26.000000</td>\n",
       "      <td>6.864830</td>\n",
       "      <td>79.870475</td>\n",
       "      <td>6.865580</td>\n",
       "      <td>79.870100</td>\n",
       "      <td>125.537500</td>\n",
       "    </tr>\n",
       "    <tr>\n",
       "      <th>50%</th>\n",
       "      <td>2.013928e+08</td>\n",
       "      <td>10.500000</td>\n",
       "      <td>1010.000000</td>\n",
       "      <td>123.000000</td>\n",
       "      <td>0.115600</td>\n",
       "      <td>73.000000</td>\n",
       "      <td>6.913970</td>\n",
       "      <td>79.898600</td>\n",
       "      <td>6.915940</td>\n",
       "      <td>79.899000</td>\n",
       "      <td>211.070000</td>\n",
       "    </tr>\n",
       "    <tr>\n",
       "      <th>75%</th>\n",
       "      <td>2.083297e+08</td>\n",
       "      <td>10.500000</td>\n",
       "      <td>1803.000000</td>\n",
       "      <td>351.000000</td>\n",
       "      <td>14.334400</td>\n",
       "      <td>144.000000</td>\n",
       "      <td>7.042628</td>\n",
       "      <td>79.956500</td>\n",
       "      <td>7.046535</td>\n",
       "      <td>79.960025</td>\n",
       "      <td>366.205000</td>\n",
       "    </tr>\n",
       "    <tr>\n",
       "      <th>max</th>\n",
       "      <td>2.138173e+08</td>\n",
       "      <td>450.820000</td>\n",
       "      <td>453872.000000</td>\n",
       "      <td>453650.000000</td>\n",
       "      <td>26198.601400</td>\n",
       "      <td>51288.000000</td>\n",
       "      <td>8.051010</td>\n",
       "      <td>81.009600</td>\n",
       "      <td>8.064930</td>\n",
       "      <td>81.009700</td>\n",
       "      <td>26945.990000</td>\n",
       "    </tr>\n",
       "  </tbody>\n",
       "</table>\n",
       "</div>"
      ],
      "text/plain": [
       "             tripid  additional_fare       duration  meter_waiting  \\\n",
       "count  1.696400e+04     16964.000000   16964.000000   16964.000000   \n",
       "mean   2.014695e+08        12.969808    1703.217696     616.631514   \n",
       "std    7.452977e+06        13.067356    8122.475573    7903.514912   \n",
       "min    1.891236e+08         0.000000      22.000000       0.000000   \n",
       "25%    1.947357e+08        10.500000     548.000000      33.000000   \n",
       "50%    2.013928e+08        10.500000    1010.000000     123.000000   \n",
       "75%    2.083297e+08        10.500000    1803.000000     351.000000   \n",
       "max    2.138173e+08       450.820000  453872.000000  453650.000000   \n",
       "\n",
       "       meter_waiting_fare  meter_waiting_till_pickup      pick_lat  \\\n",
       "count        16964.000000               16964.000000  16964.000000   \n",
       "mean            31.330237                 112.410340      6.965129   \n",
       "std            456.066403                 442.120178      0.210822   \n",
       "min              0.000000                   0.000000      5.937600   \n",
       "25%              0.000000                  26.000000      6.864830   \n",
       "50%              0.115600                  73.000000      6.913970   \n",
       "75%             14.334400                 144.000000      7.042628   \n",
       "max          26198.601400               51288.000000      8.051010   \n",
       "\n",
       "           pick_lon      drop_lat      drop_lon          fare  \n",
       "count  16964.000000  16964.000000  16964.000000  16964.000000  \n",
       "mean      79.998001      6.965851     79.999172    311.248407  \n",
       "std        0.242809      0.211486      0.242995    575.797676  \n",
       "min       79.819100      5.941860     79.796700      0.000000  \n",
       "25%       79.870475      6.865580     79.870100    125.537500  \n",
       "50%       79.898600      6.915940     79.899000    211.070000  \n",
       "75%       79.956500      7.046535     79.960025    366.205000  \n",
       "max       81.009600      8.064930     81.009700  26945.990000  "
      ]
     },
     "execution_count": 64,
     "metadata": {},
     "output_type": "execute_result"
    }
   ],
   "source": [
    "train_data.describe()"
   ]
  },
  {
   "cell_type": "code",
   "execution_count": 65,
   "metadata": {},
   "outputs": [
    {
     "name": "stderr",
     "output_type": "stream",
     "text": [
      "/home/sidathm/.local/lib/python3.6/site-packages/ipykernel_launcher.py:4: UserWarning: To output multiple subplots, the figure containing the passed axes is being cleared\n",
      "  after removing the cwd from sys.path.\n"
     ]
    },
    {
     "data": {
      "text/plain": [
       "array([[<matplotlib.axes._subplots.AxesSubplot object at 0x7f1565fc0d68>,\n",
       "        <matplotlib.axes._subplots.AxesSubplot object at 0x7f155ee2f940>,\n",
       "        <matplotlib.axes._subplots.AxesSubplot object at 0x7f155fbcbef0>],\n",
       "       [<matplotlib.axes._subplots.AxesSubplot object at 0x7f155fb854e0>,\n",
       "        <matplotlib.axes._subplots.AxesSubplot object at 0x7f155fbb8a90>,\n",
       "        <matplotlib.axes._subplots.AxesSubplot object at 0x7f155fb699b0>],\n",
       "       [<matplotlib.axes._subplots.AxesSubplot object at 0x7f155f51cf60>,\n",
       "        <matplotlib.axes._subplots.AxesSubplot object at 0x7f155f4d9588>,\n",
       "        <matplotlib.axes._subplots.AxesSubplot object at 0x7f155f4d95c0>],\n",
       "       [<matplotlib.axes._subplots.AxesSubplot object at 0x7f155f4470f0>,\n",
       "        <matplotlib.axes._subplots.AxesSubplot object at 0x7f155f4776a0>,\n",
       "        <matplotlib.axes._subplots.AxesSubplot object at 0x7f155f42ac50>]],\n",
       "      dtype=object)"
      ]
     },
     "execution_count": 65,
     "metadata": {},
     "output_type": "execute_result"
    },
    {
     "data": {
      "image/png": "[encoded data removed]",
      "text/plain": [
       "<Figure size 1080x1440 with 12 Axes>"
      ]
     },
     "metadata": {
      "needs_background": "light"
     },
     "output_type": "display_data"
    }
   ],
   "source": [
    "from matplotlib import pyplot as plt\n",
    "fig = plt.figure(figsize = (15,20))\n",
    "ax = fig.gca()\n",
    "train_data.hist(ax=ax)"
   ]
  },
  {
   "cell_type": "code",
   "execution_count": 67,
   "metadata": {},
   "outputs": [
    {
     "data": {
      "text/plain": [
       "126.07555555555555"
      ]
     },
     "execution_count": 67,
     "metadata": {},
     "output_type": "execute_result"
    }
   ],
   "source": [
    "453872.000000/(60*60)"
   ]
  },
  {
   "cell_type": "code",
   "execution_count": null,
   "metadata": {},
   "outputs": [],
   "source": []
  }
 ],
 "metadata": {
  "kernelspec": {
   "display_name": "Python 3",
   "language": "python",
   "name": "python3"
  },
  "language_info": {
   "codemirror_mode": {
    "name": "ipython",
    "version": 3
   },
   "file_extension": ".py",
   "mimetype": "text/x-python",
   "name": "python",
   "nbconvert_exporter": "python",
   "pygments_lexer": "ipython3",
   "version": "3.6.9"
  }
 },
 "nbformat": 4,
 "nbformat_minor": 4
}
